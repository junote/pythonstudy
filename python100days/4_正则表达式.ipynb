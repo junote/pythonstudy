{
 "cells": [
  {
   "cell_type": "markdown",
   "metadata": {},
   "source": [
    "##  正则表达式\n",
    "\n",
    "Python通过标准库中的re模块来支持正则表达式操作。\n",
    "\n",
    "\n",
    "关于正则表达式的相关知识，大家可以阅读一篇非常有名的博客叫[正则表达式30分钟入门教程》](https://deerchao.net/tutorials/regex/regex.htm)这篇文章后你就可以看懂下面的表格，这是我们对正则表达式中的一些基本符号进行的扼要总结。\n",
    "\n",
    "\n",
    "Python提供了re模块来支持正则表达式相关操作，下面是re模块中的核心函数。\n",
    "\n",
    "\n",
    "\n",
    "|函数 |说明\n",
    "|:--:|:--:|\n",
    "compile(pattern, flags=0) |\t编译正则表达式返回正则表达式对象\n",
    "match(pattern, string, flags=0) |\t用正则表达式匹配字符串 成功返回匹配对象 否则返回None\n",
    "search(pattern, string, flags=0) \t|搜索字符串中第一次出现正则表达式的模式 成功返回匹配对象 否则返回None\n",
    "split(pattern, string, maxsplit=0, flags=0) |\t用正则表达式指定的模式分隔符拆分字符串 返回列表\n",
    "sub(pattern, repl, string, count=0, flags=0) |\t用指定的字符串替换原字符串中与正则表达式匹配的模式 可以用count指定替换的次数\n",
    "fullmatch(pattern, string, flags=0) |\tmatch函数的完全匹配（从字符串开头到结尾）版本\n",
    "findall(pattern, string, flags=0) |\t查找字符串所有与正则表达式匹配的模式 返回字符串的列表\n",
    "finditer(pattern, string, flags=0) |\t查找字符串所有与正则表达式匹配的模式 返回一个迭代器\n",
    "purge() |\t清除隐式编译的正则表达式的缓存\n",
    "re.I / re.IGNORECASE |\t忽略大小写匹配标记\n",
    "re.M / re.MULTILINE \t|多行匹配标记"
   ]
  },
  {
   "cell_type": "code",
   "execution_count": 2,
   "metadata": {},
   "outputs": [
    {
     "name": "stdout",
     "output_type": "stream",
     "text": [
      "请输入用户名: ddfd\n",
      "请输入QQ号: 0122200\n",
      "请输入有效的用户名.\n",
      "请输入有效的QQ号.\n"
     ]
    }
   ],
   "source": [
    "\"\"\"\n",
    "验证输入用户名和QQ号是否有效并给出对应的提示信息\n",
    "\n",
    "要求：用户名必须由字母、数字或下划线构成且长度在6~20个字符之间，QQ号是5~12的数字且首位不能为0\n",
    "\"\"\"\n",
    "import re\n",
    "\n",
    "\n",
    "def main():\n",
    "    username = input('请输入用户名: ')\n",
    "    qq = input('请输入QQ号: ')\n",
    "    # match函数的第一个参数是正则表达式字符串或正则表达式对象\n",
    "    # 第二个参数是要跟正则表达式做匹配的字符串对象\n",
    "    m1 = re.match(r'^[0-9a-zA-Z_]{6,20}$', username)\n",
    "    if not m1:\n",
    "        print('请输入有效的用户名.')\n",
    "    m2 = re.match(r'^[1-9]\\d{4,11}$', qq)\n",
    "    if not m2:\n",
    "        print('请输入有效的QQ号.')\n",
    "    if m1 and m2:\n",
    "        print('你输入的信息是有效的!')\n",
    "\n",
    "\n",
    "if __name__ == '__main__':\n",
    "    main()"
   ]
  },
  {
   "cell_type": "code",
   "execution_count": 3,
   "metadata": {},
   "outputs": [
    {
     "name": "stdout",
     "output_type": "stream",
     "text": [
      "['13512346789', '15600998765', '15600998765']\n",
      "--------华丽的分隔线--------\n",
      "13512346789\n",
      "15600998765\n",
      "15600998765\n",
      "--------华丽的分隔线--------\n",
      "13512346789\n",
      "15600998765\n",
      "15600998765\n"
     ]
    }
   ],
   "source": [
    "# 从一段文字中提取出国内手机号码\n",
    "import re\n",
    "\n",
    "\n",
    "def main():\n",
    "    # 创建正则表达式对象 使用了前瞻和回顾来保证手机号前后不应该出现数字\n",
    "    pattern = re.compile(r'(?<=\\D)1[34578]\\d{9}(?=\\D)')\n",
    "    pattern_ok = re.compile(r'(?<=\\D)(1[38]\\d{9}|14[57]\\d{8}|15[0-35-9]\\d{8}|17[678]\\d{8})(?=\\D)')\n",
    "    sentence = '''\n",
    "    重要的事情说8130123456789遍，我的手机号是13512346789这个靓号，\n",
    "    不是15600998765，也是110或119，王大锤的手机号才是15600998765。\n",
    "    '''\n",
    "    # 查找所有匹配并保存到一个列表中\n",
    "    mylist = re.findall(pattern, sentence)\n",
    "    print(mylist)\n",
    "    print('--------华丽的分隔线--------')\n",
    "    # 通过迭代器取出匹配对象并获得匹配的内容\n",
    "    for temp in pattern.finditer(sentence):\n",
    "        print(temp.group())\n",
    "    print('--------华丽的分隔线--------')\n",
    "    # 通过search函数指定搜索位置找出所有匹配\n",
    "    m = pattern.search(sentence)\n",
    "    while m:\n",
    "        print(m.group())\n",
    "        m = pattern.search(sentence, m.end())\n",
    "\n",
    "\n",
    "if __name__ == '__main__':\n",
    "    main()"
   ]
  }
 ],
 "metadata": {
  "kernelspec": {
   "display_name": "Python 3",
   "language": "python",
   "name": "python3"
  },
  "language_info": {
   "codemirror_mode": {
    "name": "ipython",
    "version": 3
   },
   "file_extension": ".py",
   "mimetype": "text/x-python",
   "name": "python",
   "nbconvert_exporter": "python",
   "pygments_lexer": "ipython3",
   "version": "3.6.8"
  }
 },
 "nbformat": 4,
 "nbformat_minor": 2
}
