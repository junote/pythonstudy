{
 "cells": [
  {
   "cell_type": "markdown",
   "metadata": {},
   "source": [
    "## 图形用户界面和游戏开发\n",
    "\n",
    "GUI是图形用户界面的缩写，图形化的用户界面对使用过计算机的人来说应该都不陌生，在此也无需进行赘述。Python默认的GUI开发模块是tkinter（在Python 3以前的版本中名为Tkinter），从这个名字就可以看出它是基于Tk的，Tk是一个工具包，最初是为Tcl设计的，后来被移植到很多其他的脚本语言中，它提供了跨平台的GUI控件。当然Tk并不是最新和最好的选择，也没有功能特别强大的GUI控件，事实上，开发GUI应用并不是Python最擅长的工作，如果真的需要使用Python开发GUI应用，wxPython、PyQt、PyGTK等模块都是不错的选择。\n",
    "\n",
    "Pygame是一个开源的Python模块，专门用于多媒体应用（如电子游戏）的开发，其中包含对图像、声音、视频、事件、碰撞等的支持。Pygame建立在SDL的基础上，SDL是一套跨平台的多媒体开发库，用C语言实现，被广泛的应用于游戏、模拟器、播放器等的开发。而Pygame让游戏开发者不再被底层语言束缚，可以更多的关注游戏的功能和逻辑。"
   ]
  },
  {
   "cell_type": "markdown",
   "metadata": {},
   "source": [
    "## 文件\n",
    "在Python中实现文件的读写操作其实非常简单，通过Python内置的open函数，我们可以指定文件名、操作模式、编码信息等来获得操作文件的对象，接下来就可以对文件进行读写操作了。\n",
    "\n",
    "操作模式|具体含义\n",
    "--|--\n",
    "'r' |读取 （默认）\n",
    "'w' |写入（会先截断之前的内容）\n",
    "'x' |写入，如果文件已经存在会产生异常\n",
    "'a' |追加，将内容写入到已有文件的末尾\n",
    "'b' |二进制模式\n",
    "'t' |文本模式（默认）\n",
    "'+' |更新（既可以读又可以写）"
   ]
  },
  {
   "cell_type": "code",
   "execution_count": null,
   "metadata": {},
   "outputs": [],
   "source": [
    "import time\n",
    "\n",
    "\n",
    "def main():\n",
    "    # 一次性读取整个文件内容\n",
    "    with open('致橡树.txt', 'r', encoding='utf-8') as f:\n",
    "        print(f.read())\n",
    "\n",
    "    # 通过for-in循环逐行读取\n",
    "    with open('致橡树.txt', mode='r') as f:\n",
    "        for line in f:\n",
    "            print(line, end='')\n",
    "            time.sleep(0.5)\n",
    "    print()\n",
    "\n",
    "    # 读取文件按行读取到列表中\n",
    "    with open('致橡树.txt') as f:\n",
    "        lines = f.readlines()\n",
    "    print(lines)\n",
    "    \n",
    "\n",
    "if __name__ == '__main__':\n",
    "    main()"
   ]
  },
  {
   "cell_type": "markdown",
   "metadata": {},
   "source": [
    "## 异常\n",
    "为了让代码有一定的健壮性和容错性，我们可以使用Python的异常机制对可能在运行时发生状况的代码进行适当的处理.\n",
    "\n",
    "在Python中，我们可以将那些在运行时可能会出现状况的代码放在try代码块中，在try代码块的后面可以跟上一个或多个except来捕获可能出现的异常状况。\n",
    "\n",
    "最后我们使用finally代码块来关闭打开的文件，释放掉程序中获取的外部资源，由于finally块的代码不论程序正常还是异常都会执行到（甚至是调用了sys模块的exit函数退出Python环境，finally块都会被执行，因为exit函数实质上是引发了SystemExit异常），因此我们通常把finally块称为“总是执行代码块”，它最适合用来做释放外部资源的操作。\n",
    "\n",
    "\n",
    "\n",
    "1. except语句不是必须的，finally语句也不是必须的，但是二者必须要有一个，否则就没有try的意义了。\n",
    "2. except语句可以有多个，Python会按except语句的顺序依次匹配你指定的异常，如果异常已经处理就不会再进入后面的except语句。\n",
    "3. except语句可以以元组形式同时指定多个异常，参见实例代码。\n",
    "4. except语句后面如果不指定异常类型，则默认捕获所有异常，你可以通过logging或者sys模块获取当前异常。\n",
    "5. 如果要捕获异常后要重复抛出，请使用raise，后面不要带任何参数或信息。\n",
    "6. 不建议捕获并抛出同一个异常，请考虑重构你的代码。\n",
    "7. 不建议在不清楚逻辑的情况下捕获所有异常，有可能你隐藏了很严重的问题。\n",
    "8. 尽量使用内置的异常处理语句来替换try/except语句，比如with语句，getattr()方法。\n",
    "\n",
    "\n",
    "#### 自定义异常类型\n",
    "Python中自定义自己的异常类型非常简单，只需要要从Exception类继承即可(直接或间接)\n",
    "~~~\n",
    "class SomeCustomException(Exception):\n",
    "    pass\n",
    "\n",
    "class AnotherException(SomeCustomException):\n",
    "    pass\n",
    "~~~"
   ]
  },
  {
   "cell_type": "code",
   "execution_count": null,
   "metadata": {},
   "outputs": [],
   "source": [
    "def main():\n",
    "    try:\n",
    "        with open('致橡树.txt', 'r', encoding='utf-8') as f:\n",
    "            print(f.read())\n",
    "    except FileNotFoundError:\n",
    "        print('无法打开指定的文件!')\n",
    "    except LookupError:\n",
    "        print('指定了未知的编码!')\n",
    "    except UnicodeDecodeError:\n",
    "        print('读取文件时解码错误!')\n",
    "\n",
    "\n",
    "if __name__ == '__main__':\n",
    "    main()"
   ]
  },
  {
   "cell_type": "markdown",
   "metadata": {},
   "source": [
    "## 读写二进制文件\n",
    "\n",
    "下面的代码实现大小端转换"
   ]
  },
  {
   "cell_type": "code",
   "execution_count": null,
   "metadata": {},
   "outputs": [],
   "source": [
    "f1 = open('pcieg3fw.bin','rb')\n",
    "f2 = open('revbin.bin','wb')\n",
    "tmp = f1.read(4)\n",
    "while f1.tell() <= 30720:\n",
    "    for i in range(3,-1,-1):\n",
    "        f2.write(tmp[i])\n",
    "    tmp = f1.read(4)\n",
    "f1.close()\n",
    "f2.close()"
   ]
  },
  {
   "cell_type": "markdown",
   "metadata": {},
   "source": [
    "## 操作文件和目录\n",
    "\n",
    "Python内置的os模块也可以直接调用操作系统提供的接口函数。\n",
    "\n",
    "1. os.name 如果是posix，说明系统是Linux、Unix或Mac OS X，如果是nt，就是Windows系统。\n",
    "2. 要获取详细的系统信息，可以调用uname()函数\n",
    "3. 在操作系统中定义的环境变量，全部保存在os.environ这个变量中，可以直接查看\n",
    "4. 操作文件和目录的函数一部分放在os模块中，一部分放在os.path模块中"
   ]
  },
  {
   "cell_type": "code",
   "execution_count": 14,
   "metadata": {},
   "outputs": [
    {
     "data": {
      "text/plain": [
       "'nt'"
      ]
     },
     "execution_count": 14,
     "metadata": {},
     "output_type": "execute_result"
    }
   ],
   "source": [
    "import os\n",
    "os.name"
   ]
  },
  {
   "cell_type": "code",
   "execution_count": 17,
   "metadata": {},
   "outputs": [
    {
     "data": {
      "text/plain": [
       "'C:\\\\Data\\\\mystudy\\\\python100days'"
      ]
     },
     "execution_count": 17,
     "metadata": {},
     "output_type": "execute_result"
    }
   ],
   "source": [
    "import os.path\n",
    "os.path.abspath('.')"
   ]
  },
  {
   "cell_type": "markdown",
   "metadata": {},
   "source": [
    "## 读写JSON文件\n",
    "JSON是“JavaScript Object Notation”的缩写，它本来是JavaScript语言中创建对象的一种字面量语法，现在已经被广泛的应用于跨平台跨语言的数据交换，原因很简单，因为JSON也是纯文本，任何系统任何编程语言处理纯文本都是没有问题的。目前JSON基本上已经取代了XML作为异构系统间交换数据的事实标准。\n",
    "\n",
    "JSON的数据类型和Python的数据类型是很容易找到对应关系的\n",
    "\n",
    "JSON \t|Python\n",
    "-|-\n",
    "object |\tdict\n",
    "array \t|list\n",
    "string |\tstr\n",
    "number (int / real) |\tint / float\n",
    "true / false |\tTrue / False\n",
    "null |\tNone\n",
    "\n",
    "json模块主要有四个比较重要的函数，分别是：\n",
    "\n",
    "* dump - 将Python对象按照JSON格式序列化到文件中\n",
    "* dumps - 将Python对象处理成JSON格式的字符串\n",
    "* load - 将文件中的JSON数据反序列化成对象\n",
    "* loads - 将字符串的内容反序列化成Python对象\n"
   ]
  },
  {
   "cell_type": "code",
   "execution_count": 11,
   "metadata": {},
   "outputs": [
    {
     "name": "stdout",
     "output_type": "stream",
     "text": [
      "保存数据完成!\n",
      "骆昊\n",
      "Python 原始数据： {'name': '骆昊', 'age': 38, 'qq': 957658, 'friends': ['王大锤', '白元芳'], 'cars': [{'brand': 'BYD', 'max_speed': 180}, {'brand': 'Audi', 'max_speed': 280}, {'brand': 'Benz', 'max_speed': 320}]}\n",
      "JSON 对象： {\"name\": \"\\u9a86\\u660a\", \"age\": 38, \"qq\": 957658, \"friends\": [\"\\u738b\\u5927\\u9524\", \"\\u767d\\u5143\\u82b3\"], \"cars\": [{\"brand\": \"BYD\", \"max_speed\": 180}, {\"brand\": \"Audi\", \"max_speed\": 280}, {\"brand\": \"Benz\", \"max_speed\": 320}]}\n",
      "data2['name']:  骆昊\n"
     ]
    }
   ],
   "source": [
    "import json\n",
    "\n",
    "\n",
    "def main():\n",
    "    mydict = {\n",
    "        'name': '骆昊',\n",
    "        'age': 38,\n",
    "        'qq': 957658,\n",
    "        'friends': ['王大锤', '白元芳'],\n",
    "        'cars': [\n",
    "            {'brand': 'BYD', 'max_speed': 180},\n",
    "            {'brand': 'Audi', 'max_speed': 280},\n",
    "            {'brand': 'Benz', 'max_speed': 320}\n",
    "        ]\n",
    "    }\n",
    "    try:\n",
    "        with open('data.json', 'w', encoding='utf-8') as fs:\n",
    "            json.dump(mydict, fs)\n",
    "    except IOError as e:\n",
    "        print(e)\n",
    "    print('保存数据完成!')\n",
    "\n",
    "    try:\n",
    "        with open('data.json', 'r', encoding='utf-8') as fs:\n",
    "            data = json.load(fs)\n",
    "    except IOError as e:\n",
    "        print(e)\n",
    "    print(data['name'])\n",
    "    \n",
    "    json_str = json.dumps(mydict)\n",
    "    print (\"Python 原始数据：\", repr(mydict))\n",
    "    print (\"JSON 对象：\", json_str)\n",
    "    \n",
    "    data2 = json.loads(json_str)\n",
    "    print (\"data2['name']: \", data2['name'])\n",
    "    \n",
    "\n",
    "  \n",
    "\n",
    "if __name__ == '__main__':\n",
    "    main()"
   ]
  },
  {
   "cell_type": "markdown",
   "metadata": {},
   "source": [
    "#### 断言\n",
    "凡是用print()来辅助查看的地方，都可以用断言（assert）来替代\n",
    "\n",
    "如果断言失败，assert语句本身就会抛出AssertionError\n",
    "\n",
    "启动Python解释器时可以用-O参数来关闭assert"
   ]
  },
  {
   "cell_type": "code",
   "execution_count": 12,
   "metadata": {},
   "outputs": [
    {
     "ename": "AssertionError",
     "evalue": "n is zero!",
     "output_type": "error",
     "traceback": [
      "\u001b[1;31m---------------------------------------------------------------------------\u001b[0m",
      "\u001b[1;31mAssertionError\u001b[0m                            Traceback (most recent call last)",
      "\u001b[1;32m<ipython-input-12-29d024cc7cdf>\u001b[0m in \u001b[0;36m<module>\u001b[1;34m\u001b[0m\n\u001b[0;32m      3\u001b[0m     \u001b[1;32massert\u001b[0m \u001b[0mn\u001b[0m \u001b[1;33m!=\u001b[0m \u001b[1;36m0\u001b[0m\u001b[1;33m,\u001b[0m \u001b[1;34m'n is zero!'\u001b[0m\u001b[1;33m\u001b[0m\u001b[1;33m\u001b[0m\u001b[0m\n\u001b[0;32m      4\u001b[0m     \u001b[1;32mreturn\u001b[0m \u001b[1;36m10\u001b[0m \u001b[1;33m/\u001b[0m \u001b[0mn\u001b[0m\u001b[1;33m\u001b[0m\u001b[1;33m\u001b[0m\u001b[0m\n\u001b[1;32m----> 5\u001b[1;33m \u001b[0mfoo\u001b[0m\u001b[1;33m(\u001b[0m\u001b[1;36m0\u001b[0m\u001b[1;33m)\u001b[0m\u001b[1;33m\u001b[0m\u001b[1;33m\u001b[0m\u001b[0m\n\u001b[0m",
      "\u001b[1;32m<ipython-input-12-29d024cc7cdf>\u001b[0m in \u001b[0;36mfoo\u001b[1;34m(s)\u001b[0m\n\u001b[0;32m      1\u001b[0m \u001b[1;32mdef\u001b[0m \u001b[0mfoo\u001b[0m\u001b[1;33m(\u001b[0m\u001b[0ms\u001b[0m\u001b[1;33m)\u001b[0m\u001b[1;33m:\u001b[0m\u001b[1;33m\u001b[0m\u001b[1;33m\u001b[0m\u001b[0m\n\u001b[0;32m      2\u001b[0m     \u001b[0mn\u001b[0m \u001b[1;33m=\u001b[0m \u001b[0mint\u001b[0m\u001b[1;33m(\u001b[0m\u001b[0ms\u001b[0m\u001b[1;33m)\u001b[0m\u001b[1;33m\u001b[0m\u001b[1;33m\u001b[0m\u001b[0m\n\u001b[1;32m----> 3\u001b[1;33m     \u001b[1;32massert\u001b[0m \u001b[0mn\u001b[0m \u001b[1;33m!=\u001b[0m \u001b[1;36m0\u001b[0m\u001b[1;33m,\u001b[0m \u001b[1;34m'n is zero!'\u001b[0m\u001b[1;33m\u001b[0m\u001b[1;33m\u001b[0m\u001b[0m\n\u001b[0m\u001b[0;32m      4\u001b[0m     \u001b[1;32mreturn\u001b[0m \u001b[1;36m10\u001b[0m \u001b[1;33m/\u001b[0m \u001b[0mn\u001b[0m\u001b[1;33m\u001b[0m\u001b[1;33m\u001b[0m\u001b[0m\n\u001b[0;32m      5\u001b[0m \u001b[0mfoo\u001b[0m\u001b[1;33m(\u001b[0m\u001b[1;36m0\u001b[0m\u001b[1;33m)\u001b[0m\u001b[1;33m\u001b[0m\u001b[1;33m\u001b[0m\u001b[0m\n",
      "\u001b[1;31mAssertionError\u001b[0m: n is zero!"
     ]
    }
   ],
   "source": [
    "def foo(s):\n",
    "    n = int(s)\n",
    "    assert n != 0, 'n is zero!'\n",
    "    return 10 / n\n",
    "foo(0)"
   ]
  },
  {
   "cell_type": "markdown",
   "metadata": {},
   "source": [
    "#### logging\n",
    "\n",
    "logging不会抛出错误，而且可以输出到文件\n"
   ]
  },
  {
   "cell_type": "code",
   "execution_count": 13,
   "metadata": {},
   "outputs": [
    {
     "name": "stderr",
     "output_type": "stream",
     "text": [
      "INFO:root:n = 0\n"
     ]
    },
    {
     "ename": "ZeroDivisionError",
     "evalue": "division by zero",
     "output_type": "error",
     "traceback": [
      "\u001b[1;31m---------------------------------------------------------------------------\u001b[0m",
      "\u001b[1;31mZeroDivisionError\u001b[0m                         Traceback (most recent call last)",
      "\u001b[1;32m<ipython-input-13-fb47d4bb0400>\u001b[0m in \u001b[0;36m<module>\u001b[1;34m\u001b[0m\n\u001b[0;32m      5\u001b[0m \u001b[0mn\u001b[0m \u001b[1;33m=\u001b[0m \u001b[0mint\u001b[0m\u001b[1;33m(\u001b[0m\u001b[0ms\u001b[0m\u001b[1;33m)\u001b[0m\u001b[1;33m\u001b[0m\u001b[1;33m\u001b[0m\u001b[0m\n\u001b[0;32m      6\u001b[0m \u001b[0mlogging\u001b[0m\u001b[1;33m.\u001b[0m\u001b[0minfo\u001b[0m\u001b[1;33m(\u001b[0m\u001b[1;34m'n = %d'\u001b[0m \u001b[1;33m%\u001b[0m \u001b[0mn\u001b[0m\u001b[1;33m)\u001b[0m\u001b[1;33m\u001b[0m\u001b[1;33m\u001b[0m\u001b[0m\n\u001b[1;32m----> 7\u001b[1;33m \u001b[0mprint\u001b[0m\u001b[1;33m(\u001b[0m\u001b[1;36m10\u001b[0m \u001b[1;33m/\u001b[0m \u001b[0mn\u001b[0m\u001b[1;33m)\u001b[0m\u001b[1;33m\u001b[0m\u001b[1;33m\u001b[0m\u001b[0m\n\u001b[0m",
      "\u001b[1;31mZeroDivisionError\u001b[0m: division by zero"
     ]
    }
   ],
   "source": [
    "import logging\n",
    "logging.basicConfig(level=logging.INFO)\n",
    "\n",
    "s = '0'\n",
    "n = int(s)\n",
    "logging.info('n = %d' % n)\n",
    "print(10 / n)"
   ]
  }
 ],
 "metadata": {
  "kernelspec": {
   "display_name": "Python 3",
   "language": "python",
   "name": "python3"
  },
  "language_info": {
   "codemirror_mode": {
    "name": "ipython",
    "version": 3
   },
   "file_extension": ".py",
   "mimetype": "text/x-python",
   "name": "python",
   "nbconvert_exporter": "python",
   "pygments_lexer": "ipython3",
   "version": "3.6.8"
  }
 },
 "nbformat": 4,
 "nbformat_minor": 2
}
